{
 "cells": [
  {
   "cell_type": "code",
   "execution_count": 1,
   "metadata": {},
   "outputs": [
    {
     "name": "stdout",
     "output_type": "stream",
     "text": [
      "Collecting langchain-openai\n",
      "  Downloading langchain_openai-0.3.8-py3-none-any.whl (55 kB)\n",
      "                                              0.0/55.4 kB ? eta -:--:--\n",
      "     ---------------------------------------- 55.4/55.4 kB 2.8 MB/s eta 0:00:00\n",
      "Collecting python-dotenv\n",
      "  Downloading python_dotenv-1.0.1-py3-none-any.whl (19 kB)\n",
      "Collecting langchain-core<1.0.0,>=0.3.42 (from langchain-openai)\n",
      "  Downloading langchain_core-0.3.43-py3-none-any.whl (415 kB)\n",
      "                                              0.0/415.4 kB ? eta -:--:--\n",
      "     ------------------------------------  409.6/415.4 kB 12.5 MB/s eta 0:00:01\n",
      "     -------------------------------------- 415.4/415.4 kB 8.6 MB/s eta 0:00:00\n",
      "Collecting openai<2.0.0,>=1.58.1 (from langchain-openai)\n",
      "  Downloading openai-1.65.5-py3-none-any.whl (474 kB)\n",
      "                                              0.0/474.5 kB ? eta -:--:--\n",
      "     -----------------------------------    440.3/474.5 kB 9.3 MB/s eta 0:00:01\n",
      "     -------------------------------------- 474.5/474.5 kB 7.5 MB/s eta 0:00:00\n",
      "Collecting tiktoken<1,>=0.7 (from langchain-openai)\n",
      "  Downloading tiktoken-0.9.0-cp311-cp311-win_amd64.whl (893 kB)\n",
      "                                              0.0/893.9 kB ? eta -:--:--\n",
      "     --------                               204.8/893.9 kB 6.3 MB/s eta 0:00:01\n",
      "     -----------------------                563.2/893.9 kB 7.1 MB/s eta 0:00:01\n",
      "     -------------------------------------- 893.9/893.9 kB 7.1 MB/s eta 0:00:00\n",
      "Collecting langsmith<0.4,>=0.1.125 (from langchain-core<1.0.0,>=0.3.42->langchain-openai)\n",
      "  Downloading langsmith-0.3.13-py3-none-any.whl (339 kB)\n",
      "                                              0.0/339.7 kB ? eta -:--:--\n",
      "     ------------------------------------- 339.7/339.7 kB 10.6 MB/s eta 0:00:00\n",
      "Collecting tenacity!=8.4.0,<10.0.0,>=8.1.0 (from langchain-core<1.0.0,>=0.3.42->langchain-openai)\n",
      "  Downloading tenacity-9.0.0-py3-none-any.whl (28 kB)\n",
      "Collecting jsonpatch<2.0,>=1.33 (from langchain-core<1.0.0,>=0.3.42->langchain-openai)\n",
      "  Downloading jsonpatch-1.33-py2.py3-none-any.whl (12 kB)\n",
      "Collecting PyYAML>=5.3 (from langchain-core<1.0.0,>=0.3.42->langchain-openai)\n",
      "  Downloading PyYAML-6.0.2-cp311-cp311-win_amd64.whl (161 kB)\n",
      "                                              0.0/162.0 kB ? eta -:--:--\n",
      "     -------------------------------------- 162.0/162.0 kB 9.5 MB/s eta 0:00:00\n",
      "Requirement already satisfied: packaging<25,>=23.2 in c:\\users\\jaedeok\\study\\llm-application\\.venv\\lib\\site-packages (from langchain-core<1.0.0,>=0.3.42->langchain-openai) (24.2)\n",
      "Requirement already satisfied: typing-extensions>=4.7 in c:\\users\\jaedeok\\study\\llm-application\\.venv\\lib\\site-packages (from langchain-core<1.0.0,>=0.3.42->langchain-openai) (4.12.2)\n",
      "Collecting pydantic<3.0.0,>=2.5.2 (from langchain-core<1.0.0,>=0.3.42->langchain-openai)\n",
      "  Downloading pydantic-2.10.6-py3-none-any.whl (431 kB)\n",
      "                                              0.0/431.7 kB ? eta -:--:--\n",
      "     ---------------------------            317.4/431.7 kB 6.7 MB/s eta 0:00:01\n",
      "     -------------------------------------- 431.7/431.7 kB 6.8 MB/s eta 0:00:00\n",
      "Collecting anyio<5,>=3.5.0 (from openai<2.0.0,>=1.58.1->langchain-openai)\n",
      "  Downloading anyio-4.8.0-py3-none-any.whl (96 kB)\n",
      "                                              0.0/96.0 kB ? eta -:--:--\n",
      "     ---------------------------------------- 96.0/96.0 kB ? eta 0:00:00\n",
      "Collecting distro<2,>=1.7.0 (from openai<2.0.0,>=1.58.1->langchain-openai)\n",
      "  Downloading distro-1.9.0-py3-none-any.whl (20 kB)\n",
      "Collecting httpx<1,>=0.23.0 (from openai<2.0.0,>=1.58.1->langchain-openai)\n",
      "  Downloading httpx-0.28.1-py3-none-any.whl (73 kB)\n",
      "                                              0.0/73.5 kB ? eta -:--:--\n",
      "     ---------------------------------------- 73.5/73.5 kB 4.2 MB/s eta 0:00:00\n",
      "Collecting jiter<1,>=0.4.0 (from openai<2.0.0,>=1.58.1->langchain-openai)\n",
      "  Downloading jiter-0.8.2-cp311-cp311-win_amd64.whl (206 kB)\n",
      "                                              0.0/206.7 kB ? eta -:--:--\n",
      "     -------------------------------------- 206.7/206.7 kB 6.3 MB/s eta 0:00:00\n",
      "Collecting sniffio (from openai<2.0.0,>=1.58.1->langchain-openai)\n",
      "  Downloading sniffio-1.3.1-py3-none-any.whl (10 kB)\n",
      "Collecting tqdm>4 (from openai<2.0.0,>=1.58.1->langchain-openai)\n",
      "  Downloading tqdm-4.67.1-py3-none-any.whl (78 kB)\n",
      "                                              0.0/78.5 kB ? eta -:--:--\n",
      "     ---------------------------------------- 78.5/78.5 kB 4.6 MB/s eta 0:00:00\n",
      "Collecting regex>=2022.1.18 (from tiktoken<1,>=0.7->langchain-openai)\n",
      "  Downloading regex-2024.11.6-cp311-cp311-win_amd64.whl (274 kB)\n",
      "                                              0.0/274.1 kB ? eta -:--:--\n",
      "     -------------------------------------- 274.1/274.1 kB 8.5 MB/s eta 0:00:00\n",
      "Collecting requests>=2.26.0 (from tiktoken<1,>=0.7->langchain-openai)\n",
      "  Downloading requests-2.32.3-py3-none-any.whl (64 kB)\n",
      "                                              0.0/64.9 kB ? eta -:--:--\n",
      "     ---------------------------------------- 64.9/64.9 kB 3.4 MB/s eta 0:00:00\n",
      "Collecting idna>=2.8 (from anyio<5,>=3.5.0->openai<2.0.0,>=1.58.1->langchain-openai)\n",
      "  Downloading idna-3.10-py3-none-any.whl (70 kB)\n",
      "                                              0.0/70.4 kB ? eta -:--:--\n",
      "     ---------------------------------------- 70.4/70.4 kB 3.8 MB/s eta 0:00:00\n",
      "Collecting certifi (from httpx<1,>=0.23.0->openai<2.0.0,>=1.58.1->langchain-openai)\n",
      "  Downloading certifi-2025.1.31-py3-none-any.whl (166 kB)\n",
      "                                              0.0/166.4 kB ? eta -:--:--\n",
      "     -------------------------------------- 166.4/166.4 kB 9.8 MB/s eta 0:00:00\n",
      "Collecting httpcore==1.* (from httpx<1,>=0.23.0->openai<2.0.0,>=1.58.1->langchain-openai)\n",
      "  Downloading httpcore-1.0.7-py3-none-any.whl (78 kB)\n",
      "                                              0.0/78.6 kB ? eta -:--:--\n",
      "     ---------------------------------------- 78.6/78.6 kB 4.3 MB/s eta 0:00:00\n",
      "Collecting h11<0.15,>=0.13 (from httpcore==1.*->httpx<1,>=0.23.0->openai<2.0.0,>=1.58.1->langchain-openai)\n",
      "  Downloading h11-0.14.0-py3-none-any.whl (58 kB)\n",
      "                                              0.0/58.3 kB ? eta -:--:--\n",
      "     ---------------------------------------- 58.3/58.3 kB 3.0 MB/s eta 0:00:00\n",
      "Collecting jsonpointer>=1.9 (from jsonpatch<2.0,>=1.33->langchain-core<1.0.0,>=0.3.42->langchain-openai)\n",
      "  Downloading jsonpointer-3.0.0-py2.py3-none-any.whl (7.6 kB)\n",
      "Collecting orjson<4.0.0,>=3.9.14 (from langsmith<0.4,>=0.1.125->langchain-core<1.0.0,>=0.3.42->langchain-openai)\n",
      "  Downloading orjson-3.10.15-cp311-cp311-win_amd64.whl (133 kB)\n",
      "                                              0.0/133.6 kB ? eta -:--:--\n",
      "     -------------------------------------- 133.6/133.6 kB 3.9 MB/s eta 0:00:00\n",
      "Collecting requests-toolbelt<2.0.0,>=1.0.0 (from langsmith<0.4,>=0.1.125->langchain-core<1.0.0,>=0.3.42->langchain-openai)\n",
      "  Using cached requests_toolbelt-1.0.0-py2.py3-none-any.whl (54 kB)\n",
      "Collecting zstandard<0.24.0,>=0.23.0 (from langsmith<0.4,>=0.1.125->langchain-core<1.0.0,>=0.3.42->langchain-openai)\n",
      "  Downloading zstandard-0.23.0-cp311-cp311-win_amd64.whl (495 kB)\n",
      "                                              0.0/495.4 kB ? eta -:--:--\n",
      "     --------------                         194.6/495.4 kB 5.8 MB/s eta 0:00:01\n",
      "     ----------------------------------     450.6/495.4 kB 5.6 MB/s eta 0:00:01\n",
      "     -------------------------------------- 495.4/495.4 kB 5.2 MB/s eta 0:00:00\n",
      "Collecting annotated-types>=0.6.0 (from pydantic<3.0.0,>=2.5.2->langchain-core<1.0.0,>=0.3.42->langchain-openai)\n",
      "  Downloading annotated_types-0.7.0-py3-none-any.whl (13 kB)\n",
      "Collecting pydantic-core==2.27.2 (from pydantic<3.0.0,>=2.5.2->langchain-core<1.0.0,>=0.3.42->langchain-openai)\n",
      "  Downloading pydantic_core-2.27.2-cp311-cp311-win_amd64.whl (2.0 MB)\n",
      "                                              0.0/2.0 MB ? eta -:--:--\n",
      "     -------                                  0.3/2.0 MB 7.2 MB/s eta 0:00:01\n",
      "     ------------                             0.6/2.0 MB 8.0 MB/s eta 0:00:01\n",
      "     ------------------                       0.9/2.0 MB 6.4 MB/s eta 0:00:01\n",
      "     ----------------------                   1.1/2.0 MB 5.8 MB/s eta 0:00:01\n",
      "     ---------------------------              1.3/2.0 MB 5.7 MB/s eta 0:00:01\n",
      "     ---------------------------------        1.6/2.0 MB 5.8 MB/s eta 0:00:01\n",
      "     ---------------------------------------  2.0/2.0 MB 6.3 MB/s eta 0:00:01\n",
      "     ---------------------------------------- 2.0/2.0 MB 6.0 MB/s eta 0:00:00\n",
      "Collecting charset-normalizer<4,>=2 (from requests>=2.26.0->tiktoken<1,>=0.7->langchain-openai)\n",
      "  Downloading charset_normalizer-3.4.1-cp311-cp311-win_amd64.whl (102 kB)\n",
      "                                              0.0/102.4 kB ? eta -:--:--\n",
      "     -------------------------------------- 102.4/102.4 kB 5.8 MB/s eta 0:00:00\n",
      "Collecting urllib3<3,>=1.21.1 (from requests>=2.26.0->tiktoken<1,>=0.7->langchain-openai)\n",
      "  Downloading urllib3-2.3.0-py3-none-any.whl (128 kB)\n",
      "                                              0.0/128.4 kB ? eta -:--:--\n",
      "     -------------------------------------- 128.4/128.4 kB 3.7 MB/s eta 0:00:00\n",
      "Requirement already satisfied: colorama in c:\\users\\jaedeok\\study\\llm-application\\.venv\\lib\\site-packages (from tqdm>4->openai<2.0.0,>=1.58.1->langchain-openai) (0.4.6)\n",
      "Installing collected packages: zstandard, urllib3, tqdm, tenacity, sniffio, regex, PyYAML, python-dotenv, pydantic-core, orjson, jsonpointer, jiter, idna, h11, distro, charset-normalizer, certifi, annotated-types, requests, pydantic, jsonpatch, httpcore, anyio, tiktoken, requests-toolbelt, httpx, openai, langsmith, langchain-core, langchain-openai\n",
      "Successfully installed PyYAML-6.0.2 annotated-types-0.7.0 anyio-4.8.0 certifi-2025.1.31 charset-normalizer-3.4.1 distro-1.9.0 h11-0.14.0 httpcore-1.0.7 httpx-0.28.1 idna-3.10 jiter-0.8.2 jsonpatch-1.33 jsonpointer-3.0.0 langchain-core-0.3.43 langchain-openai-0.3.8 langsmith-0.3.13 openai-1.65.5 orjson-3.10.15 pydantic-2.10.6 pydantic-core-2.27.2 python-dotenv-1.0.1 regex-2024.11.6 requests-2.32.3 requests-toolbelt-1.0.0 sniffio-1.3.1 tenacity-9.0.0 tiktoken-0.9.0 tqdm-4.67.1 urllib3-2.3.0 zstandard-0.23.0\n",
      "Note: you may need to restart the kernel to use updated packages.\n"
     ]
    },
    {
     "name": "stderr",
     "output_type": "stream",
     "text": [
      "\n",
      "[notice] A new release of pip is available: 23.1.2 -> 25.0.1\n",
      "[notice] To update, run: python.exe -m pip install --upgrade pip\n"
     ]
    }
   ],
   "source": [
    "%pip install langchain-openai python-dotenv"
   ]
  },
  {
   "cell_type": "code",
   "execution_count": 3,
   "metadata": {},
   "outputs": [
    {
     "data": {
      "text/plain": [
       "True"
      ]
     },
     "execution_count": 3,
     "metadata": {},
     "output_type": "execute_result"
    }
   ],
   "source": [
    "from dotenv import load_dotenv\n",
    "\n",
    "load_dotenv()"
   ]
  },
  {
   "cell_type": "code",
   "execution_count": 4,
   "metadata": {},
   "outputs": [],
   "source": [
    "from langchain_openai import ChatOpenAI\n",
    "\n",
    "llm = ChatOpenAI()"
   ]
  },
  {
   "cell_type": "code",
   "execution_count": 9,
   "metadata": {},
   "outputs": [],
   "source": [
    "ai_message = llm.invoke(\"인프런에 어떤 강의가 있나요?\")"
   ]
  },
  {
   "cell_type": "code",
   "execution_count": 11,
   "metadata": {},
   "outputs": [
    {
     "data": {
      "text/plain": [
       "'인프런에는 다양한 주제의 강의들이 있습니다. 프로그래밍, 마케팅, 투자, 디자인, 외국어 등 다양한 분야의 전문가가 강의를 제공하고 있습니다. 또한 취미나 일상 생활에 유용한 강의도 다양하게 제공되고 있습니다. 인프런 홈페이지를 방문하시면 더 다양한 강의를 확인하실 수 있습니다.'"
      ]
     },
     "execution_count": 11,
     "metadata": {},
     "output_type": "execute_result"
    }
   ],
   "source": [
    "ai_message.content"
   ]
  }
 ],
 "metadata": {
  "kernelspec": {
   "display_name": ".venv",
   "language": "python",
   "name": "python3"
  },
  "language_info": {
   "codemirror_mode": {
    "name": "ipython",
    "version": 3
   },
   "file_extension": ".py",
   "mimetype": "text/x-python",
   "name": "python",
   "nbconvert_exporter": "python",
   "pygments_lexer": "ipython3",
   "version": "3.11.4"
  }
 },
 "nbformat": 4,
 "nbformat_minor": 2
}
